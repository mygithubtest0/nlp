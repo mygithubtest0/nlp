{
 "cells": [
  {
   "cell_type": "code",
   "execution_count": 1,
   "metadata": {},
   "outputs": [],
   "source": [
    "import numpy as np\n",
    "import pandas as pd\n",
    "import re\n",
    "import matplotlib.pyplot as plt\n",
    "from nltk.corpus import stopwords\n",
    "from bs4 import BeautifulSoup \n",
    "from tensorflow.keras.preprocessing.text import Tokenizer \n",
    "from tensorflow.keras.preprocessing.sequence import pad_sequences\n",
    "import urllib.request\n",
    "np.random.seed(seed=0)"
   ]
  },
  {
   "cell_type": "code",
   "execution_count": 2,
   "metadata": {},
   "outputs": [
    {
     "name": "stdout",
     "output_type": "stream",
     "text": [
      "전체 뉴스 개수 : 100000\n"
     ]
    }
   ],
   "source": [
    "data = pd.read_csv('C:/Users/DELL/P1/data/Covid19.csv', nrows = 100000, encoding='cp949')\n",
    "print(\"전체 뉴스 개수 :\",(len(data)))"
   ]
  },
  {
   "cell_type": "code",
   "execution_count": 3,
   "metadata": {
    "scrolled": false
   },
   "outputs": [
    {
     "data": {
      "text/html": [
       "<div>\n",
       "<style scoped>\n",
       "    .dataframe tbody tr th:only-of-type {\n",
       "        vertical-align: middle;\n",
       "    }\n",
       "\n",
       "    .dataframe tbody tr th {\n",
       "        vertical-align: top;\n",
       "    }\n",
       "\n",
       "    .dataframe thead th {\n",
       "        text-align: right;\n",
       "    }\n",
       "</style>\n",
       "<table border=\"1\" class=\"dataframe\">\n",
       "  <thead>\n",
       "    <tr style=\"text-align: right;\">\n",
       "      <th></th>\n",
       "      <th>본문</th>\n",
       "      <th>특성추출</th>\n",
       "    </tr>\n",
       "  </thead>\n",
       "  <tbody>\n",
       "    <tr>\n",
       "      <th>3582</th>\n",
       "      <td>≪이 기사는 07월31일(11:10) 자본시장의 혜안 ..‘마켓인사이트’에 게재된 ...</td>\n",
       "      <td>kcc,공모사채,부동산,kcc건설,건설업,코로나바이러스,연평균,투자가,다음달,서울,...</td>\n",
       "    </tr>\n",
       "    <tr>\n",
       "      <th>60498</th>\n",
       "      <td>- .. .. .. ..［중부매일 유창림 기자］천안에 소재한 ..(주)유스바이오(대...</td>\n",
       "      <td>코로나19,유스바이오,유창림,중부매일,박성일,서산시,지방자치단체,아이솔레이션,아이솔...</td>\n",
       "    </tr>\n",
       "    <tr>\n",
       "      <th>53227</th>\n",
       "      <td>[머니투데이 구유나 기자] 현대차증권 19일 SK렌터카에 대해 법인 통합에 따른 하...</td>\n",
       "      <td>현대차증권,렌터카,중고차,코로나19,연구원,목표주가,경쟁력,sk렌터카,박종렬,125...</td>\n",
       "    </tr>\n",
       "    <tr>\n",
       "      <th>21333</th>\n",
       "      <td>[당진=충청일보 최근석 기자] 충남 당진시보건소는 코로나19 상황이 장기화되면서 이...</td>\n",
       "      <td>코로나19,일상생활,장애인,치료사,스트레칭,관계자,보건소,재활서비스,장애인들,건강관...</td>\n",
       "    </tr>\n",
       "    <tr>\n",
       "      <th>3885</th>\n",
       "      <td>전주시가 최근 운영을 재개한 경로당과 복지관 등 사회복지시설 현장을 찾아가 생활방...</td>\n",
       "      <td>경로당,복지관,전주시,코로나19,방역수칙,만큼,이용자,민선식,장기간,노노,경로식당,...</td>\n",
       "    </tr>\n",
       "    <tr>\n",
       "      <th>51521</th>\n",
       "      <td>［충북일보］ 현대엘리베이터가 최근 집중 호우로 큰 피해를 입은 충주시 이재민을 돕기...</td>\n",
       "      <td>현대엘리베이터,충주,집중호우,충주시,이재민,송승봉,코로나19,임직원,일상생활,가전제...</td>\n",
       "    </tr>\n",
       "    <tr>\n",
       "      <th>84261</th>\n",
       "      <td>[고성]고성군은 코로나19 여파로 지난해까지 집합교육만 실시하던 4대 폭력 예방교육...</td>\n",
       "      <td>코로나19,고성군,예방교육,집합교육,사이버교육,온라인,기본법,성폭력,양성평등기본법,...</td>\n",
       "    </tr>\n",
       "    <tr>\n",
       "      <th>10685</th>\n",
       "      <td>[충청투데이 이대현 기자] 제천시 노사민정협의회가 제천시 협의회 사무국에서 노사민정...</td>\n",
       "      <td>협의회,노사민정,제천시,관계자,실무협의회,기경희,코로나,거버넌스,고용안정,일자리,협...</td>\n",
       "    </tr>\n",
       "    <tr>\n",
       "      <th>59948</th>\n",
       "      <td>한국기원 공식 프로기전의 온라인 대국에서 기기 오류로 대국 자체가 무효 처리돼 재대...</td>\n",
       "      <td>9단,재대국,한국기원,중국,중국기원,농심신,온라인,시간패,박정환,한국,일본,이창호,...</td>\n",
       "    </tr>\n",
       "    <tr>\n",
       "      <th>41032</th>\n",
       "      <td>전광훈 목사가 이끌고 있는 사랑제일교회에 대한 비판이 커지고 있다... .. .. ...</td>\n",
       "      <td>서울,코로나19,사랑제일교회,광화문,제일교회,전광훈,확진자,동화면세점,코로나,집단감...</td>\n",
       "    </tr>\n",
       "  </tbody>\n",
       "</table>\n",
       "</div>"
      ],
      "text/plain": [
       "                                                      본문  \\\n",
       "3582   ≪이 기사는 07월31일(11:10) 자본시장의 혜안 ..‘마켓인사이트’에 게재된 ...   \n",
       "60498  - .. .. .. ..［중부매일 유창림 기자］천안에 소재한 ..(주)유스바이오(대...   \n",
       "53227  [머니투데이 구유나 기자] 현대차증권 19일 SK렌터카에 대해 법인 통합에 따른 하...   \n",
       "21333  [당진=충청일보 최근석 기자] 충남 당진시보건소는 코로나19 상황이 장기화되면서 이...   \n",
       "3885   　전주시가 최근 운영을 재개한 경로당과 복지관 등 사회복지시설 현장을 찾아가 생활방...   \n",
       "51521  ［충북일보］ 현대엘리베이터가 최근 집중 호우로 큰 피해를 입은 충주시 이재민을 돕기...   \n",
       "84261  [고성]고성군은 코로나19 여파로 지난해까지 집합교육만 실시하던 4대 폭력 예방교육...   \n",
       "10685  [충청투데이 이대현 기자] 제천시 노사민정협의회가 제천시 협의회 사무국에서 노사민정...   \n",
       "59948  한국기원 공식 프로기전의 온라인 대국에서 기기 오류로 대국 자체가 무효 처리돼 재대...   \n",
       "41032  전광훈 목사가 이끌고 있는 사랑제일교회에 대한 비판이 커지고 있다... .. .. ...   \n",
       "\n",
       "                                                    특성추출  \n",
       "3582   kcc,공모사채,부동산,kcc건설,건설업,코로나바이러스,연평균,투자가,다음달,서울,...  \n",
       "60498  코로나19,유스바이오,유창림,중부매일,박성일,서산시,지방자치단체,아이솔레이션,아이솔...  \n",
       "53227  현대차증권,렌터카,중고차,코로나19,연구원,목표주가,경쟁력,sk렌터카,박종렬,125...  \n",
       "21333  코로나19,일상생활,장애인,치료사,스트레칭,관계자,보건소,재활서비스,장애인들,건강관...  \n",
       "3885   경로당,복지관,전주시,코로나19,방역수칙,만큼,이용자,민선식,장기간,노노,경로식당,...  \n",
       "51521  현대엘리베이터,충주,집중호우,충주시,이재민,송승봉,코로나19,임직원,일상생활,가전제...  \n",
       "84261  코로나19,고성군,예방교육,집합교육,사이버교육,온라인,기본법,성폭력,양성평등기본법,...  \n",
       "10685  협의회,노사민정,제천시,관계자,실무협의회,기경희,코로나,거버넌스,고용안정,일자리,협...  \n",
       "59948  9단,재대국,한국기원,중국,중국기원,농심신,온라인,시간패,박정환,한국,일본,이창호,...  \n",
       "41032  서울,코로나19,사랑제일교회,광화문,제일교회,전광훈,확진자,동화면세점,코로나,집단감...  "
      ]
     },
     "execution_count": 3,
     "metadata": {},
     "output_type": "execute_result"
    }
   ],
   "source": [
    "data = data[['본문', '특성추출']]\n",
    "data.sample(10)"
   ]
  },
  {
   "cell_type": "code",
   "execution_count": 4,
   "metadata": {},
   "outputs": [
    {
     "name": "stdout",
     "output_type": "stream",
     "text": [
      "본문 열에서 중복을 배제한 유일한 샘플의 수 : 93394\n",
      "특성추출 열에서 중복을 배제한 유일한 샘플의 수 : 94903\n"
     ]
    }
   ],
   "source": [
    "print('본문 열에서 중복을 배제한 유일한 샘플의 수 :', data['본문'].nunique())\n",
    "print('특성추출 열에서 중복을 배제한 유일한 샘플의 수 :', data['특성추출'].nunique())"
   ]
  },
  {
   "cell_type": "code",
   "execution_count": 5,
   "metadata": {},
   "outputs": [
    {
     "name": "stdout",
     "output_type": "stream",
     "text": [
      "샘플 수 : 93395\n"
     ]
    }
   ],
   "source": [
    "data.drop_duplicates(subset=['본문'], inplace=True)\n",
    "print(\"샘플 수 :\", len(data))"
   ]
  },
  {
   "cell_type": "code",
   "execution_count": 6,
   "metadata": {},
   "outputs": [
    {
     "name": "stdout",
     "output_type": "stream",
     "text": [
      "본문      1\n",
      "특성추출    1\n",
      "dtype: int64\n"
     ]
    }
   ],
   "source": [
    "print(data.isnull().sum())"
   ]
  },
  {
   "cell_type": "code",
   "execution_count": 7,
   "metadata": {},
   "outputs": [
    {
     "name": "stdout",
     "output_type": "stream",
     "text": [
      "전체 샘플 수 : 93394\n"
     ]
    }
   ],
   "source": [
    "data.dropna(axis=0, inplace=True)\n",
    "print('전체 샘플 수 :',(len(data)))"
   ]
  },
  {
   "cell_type": "code",
   "execution_count": 8,
   "metadata": {},
   "outputs": [
    {
     "name": "stdout",
     "output_type": "stream",
     "text": [
      "본문의 최소 길이 : 1\n",
      "본문의 최대 길이 : 62\n",
      "본문의 평균 길이 : 42.44226609846457\n",
      "키워드의 최소 길이 : 1\n",
      "키워드의 최대 길이 : 14\n",
      "키워드의 평균 길이 : 1.0041865644473948\n"
     ]
    },
    {
     "name": "stderr",
     "output_type": "stream",
     "text": [
      "C:\\Users\\DELL\\anaconda3\\lib\\site-packages\\matplotlib\\backends\\backend_agg.py:214: RuntimeWarning: Glyph 53945 missing from current font.\n",
      "  font.set_text(s, 0.0, flags=flags)\n",
      "C:\\Users\\DELL\\anaconda3\\lib\\site-packages\\matplotlib\\backends\\backend_agg.py:214: RuntimeWarning: Glyph 49457 missing from current font.\n",
      "  font.set_text(s, 0.0, flags=flags)\n",
      "C:\\Users\\DELL\\anaconda3\\lib\\site-packages\\matplotlib\\backends\\backend_agg.py:214: RuntimeWarning: Glyph 52628 missing from current font.\n",
      "  font.set_text(s, 0.0, flags=flags)\n",
      "C:\\Users\\DELL\\anaconda3\\lib\\site-packages\\matplotlib\\backends\\backend_agg.py:214: RuntimeWarning: Glyph 52636 missing from current font.\n",
      "  font.set_text(s, 0.0, flags=flags)\n",
      "C:\\Users\\DELL\\anaconda3\\lib\\site-packages\\matplotlib\\backends\\backend_agg.py:214: RuntimeWarning: Glyph 48376 missing from current font.\n",
      "  font.set_text(s, 0.0, flags=flags)\n",
      "C:\\Users\\DELL\\anaconda3\\lib\\site-packages\\matplotlib\\backends\\backend_agg.py:214: RuntimeWarning: Glyph 47928 missing from current font.\n",
      "  font.set_text(s, 0.0, flags=flags)\n",
      "C:\\Users\\DELL\\anaconda3\\lib\\site-packages\\matplotlib\\backends\\backend_agg.py:183: RuntimeWarning: Glyph 53945 missing from current font.\n",
      "  font.set_text(s, 0, flags=flags)\n",
      "C:\\Users\\DELL\\anaconda3\\lib\\site-packages\\matplotlib\\backends\\backend_agg.py:183: RuntimeWarning: Glyph 49457 missing from current font.\n",
      "  font.set_text(s, 0, flags=flags)\n",
      "C:\\Users\\DELL\\anaconda3\\lib\\site-packages\\matplotlib\\backends\\backend_agg.py:183: RuntimeWarning: Glyph 52628 missing from current font.\n",
      "  font.set_text(s, 0, flags=flags)\n",
      "C:\\Users\\DELL\\anaconda3\\lib\\site-packages\\matplotlib\\backends\\backend_agg.py:183: RuntimeWarning: Glyph 52636 missing from current font.\n",
      "  font.set_text(s, 0, flags=flags)\n",
      "C:\\Users\\DELL\\anaconda3\\lib\\site-packages\\matplotlib\\backends\\backend_agg.py:183: RuntimeWarning: Glyph 48376 missing from current font.\n",
      "  font.set_text(s, 0, flags=flags)\n",
      "C:\\Users\\DELL\\anaconda3\\lib\\site-packages\\matplotlib\\backends\\backend_agg.py:183: RuntimeWarning: Glyph 47928 missing from current font.\n",
      "  font.set_text(s, 0, flags=flags)\n"
     ]
    },
    {
     "data": {
      "image/png": "[encoded data removed]",
      "text/plain": [
       "<Figure size 432x288 with 2 Axes>"
      ]
     },
     "metadata": {
      "needs_background": "light"
     },
     "output_type": "display_data"
    },
    {
     "data": {
      "image/png": "[encoded data removed]",
      "text/plain": [
       "<Figure size 432x288 with 1 Axes>"
      ]
     },
     "metadata": {
      "needs_background": "light"
     },
     "output_type": "display_data"
    },
    {
     "data": {
      "image/png": "[encoded data removed]",
      "text/plain": [
       "<Figure size 432x288 with 1 Axes>"
      ]
     },
     "metadata": {
      "needs_background": "light"
     },
     "output_type": "display_data"
    }
   ],
   "source": [
    "# 길이 분포 출력\n",
    "text_len = [len(s.split()) for s in data['본문']]\n",
    "keyword_len = [len(s.split()) for s in data['특성추출']]\n",
    "\n",
    "print('본문의 최소 길이 : {}'.format(np.min(text_len)))\n",
    "print('본문의 최대 길이 : {}'.format(np.max(text_len)))\n",
    "print('본문의 평균 길이 : {}'.format(np.mean(text_len)))\n",
    "print('키워드의 최소 길이 : {}'.format(np.min(keyword_len)))\n",
    "print('키워드의 최대 길이 : {}'.format(np.max(keyword_len)))\n",
    "print('키워드의 평균 길이 : {}'.format(np.mean(keyword_len)))\n",
    "\n",
    "plt.subplot(1,2,1)\n",
    "plt.boxplot(keyword_len)\n",
    "plt.title('특성추출')\n",
    "plt.subplot(1,2,2)\n",
    "plt.boxplot(text_len)\n",
    "plt.title('본문')\n",
    "plt.tight_layout()\n",
    "plt.show()\n",
    "\n",
    "plt.title('특성추출')\n",
    "plt.hist(keyword_len, bins=40)\n",
    "plt.xlabel('length of samples')\n",
    "plt.ylabel('number of samples')\n",
    "plt.show()\n",
    "\n",
    "plt.title('본문')\n",
    "plt.hist(text_len, bins=40)\n",
    "plt.xlabel('length of samples')\n",
    "plt.ylabel('number of samples')\n",
    "plt.show()"
   ]
  },
  {
   "cell_type": "code",
   "execution_count": 9,
   "metadata": {},
   "outputs": [],
   "source": [
    "text_max_len = 50\n",
    "keyword_max_len = 8"
   ]
  },
  {
   "cell_type": "code",
   "execution_count": 10,
   "metadata": {},
   "outputs": [],
   "source": [
    "def below_threshold_len(max_len, nested_list):\n",
    "  cnt = 0\n",
    "  for s in nested_list:\n",
    "    if(len(s.split()) <= max_len):\n",
    "        cnt = cnt + 1\n",
    "  print('전체 샘플 중 길이가 %s 이하인 샘플의 비율: %s'%(max_len, (cnt / len(nested_list))))"
   ]
  },
  {
   "cell_type": "code",
   "execution_count": 11,
   "metadata": {},
   "outputs": [
    {
     "name": "stdout",
     "output_type": "stream",
     "text": [
      "전체 샘플 중 길이가 50 이하인 샘플의 비율: 0.9867871597747179\n"
     ]
    }
   ],
   "source": [
    "below_threshold_len(text_max_len, data['본문'])"
   ]
  },
  {
   "cell_type": "code",
   "execution_count": 12,
   "metadata": {},
   "outputs": [
    {
     "name": "stdout",
     "output_type": "stream",
     "text": [
      "전체 샘플 중 길이가 8 이하인 샘플의 비율: 0.9999785853480951\n"
     ]
    }
   ],
   "source": [
    "below_threshold_len(keyword_max_len, data['특성추출'])"
   ]
  },
  {
   "cell_type": "code",
   "execution_count": 13,
   "metadata": {},
   "outputs": [
    {
     "name": "stdout",
     "output_type": "stream",
     "text": [
      "전체 샘플 수 : 92158\n"
     ]
    }
   ],
   "source": [
    "data = data[data['본문'].apply(lambda x: len(x.split()) <= text_max_len)]\n",
    "data = data[data['특성추출'].apply(lambda x: len(x.split()) <= keyword_max_len)]\n",
    "print('전체 샘플 수 :',(len(data)))"
   ]
  },
  {
   "cell_type": "code",
   "execution_count": 14,
   "metadata": {},
   "outputs": [
    {
     "data": {
      "text/html": [
       "<div>\n",
       "<style scoped>\n",
       "    .dataframe tbody tr th:only-of-type {\n",
       "        vertical-align: middle;\n",
       "    }\n",
       "\n",
       "    .dataframe tbody tr th {\n",
       "        vertical-align: top;\n",
       "    }\n",
       "\n",
       "    .dataframe thead th {\n",
       "        text-align: right;\n",
       "    }\n",
       "</style>\n",
       "<table border=\"1\" class=\"dataframe\">\n",
       "  <thead>\n",
       "    <tr style=\"text-align: right;\">\n",
       "      <th></th>\n",
       "      <th>본문</th>\n",
       "      <th>특성추출</th>\n",
       "    </tr>\n",
       "  </thead>\n",
       "  <tbody>\n",
       "    <tr>\n",
       "      <th>0</th>\n",
       "      <td>의왕시는 코로나 19 장기화로 진로체험 및 문화 활동이 어려운 청소년들을 위해 진로...</td>\n",
       "      <td>의왕시,온라인,실시간,의왕,가요제,엔터테이너,dream,오프라인,김상돈,유튜브,트롯...</td>\n",
       "    </tr>\n",
       "    <tr>\n",
       "      <th>1</th>\n",
       "      <td>코로나19 가짜뉴스 대책단(백종덕ㆍ최정민ㆍ서성민 변호사 공동단장)이 지난 29일 이...</td>\n",
       "      <td>이재명,가짜뉴스,악의적,공동단장,백종덕,허위사실,코로나19,90건,온라인,살해설,조...</td>\n",
       "    </tr>\n",
       "    <tr>\n",
       "      <th>2</th>\n",
       "      <td>지금까지와는 전혀 다른 언택트 시대가 다가오면서, 마케팅 업계에도 변화의 바람이 불...</td>\n",
       "      <td>오프라인,모츠,한국,온라인,런칭,전문가,언택트,캐롯닷밀,뉴딜,엘튼,조슈아</td>\n",
       "    </tr>\n",
       "    <tr>\n",
       "      <th>3</th>\n",
       "      <td>[앵커] ..프로야구에 이어 프로축구도 코로나 19 사태 뒤 처음으로 관중 입장이 ...</td>\n",
       "      <td>팬들,경기장,광주도,선수들,역전승,최용수,전북도,양시창,전후좌우,2칸,엄원,모라이스...</td>\n",
       "    </tr>\n",
       "    <tr>\n",
       "      <th>4</th>\n",
       "      <td>[앵커] ..전세계적으로 재확산 중인 코로나19가 진정될 조짐을 안 보이는 가운데 ...</td>\n",
       "      <td>미국,코로나19,제약사,사노피,유럽연합,행정부,유럽,상용화,5억,입도선매,사람들,임...</td>\n",
       "    </tr>\n",
       "  </tbody>\n",
       "</table>\n",
       "</div>"
      ],
      "text/plain": [
       "                                                  본문  \\\n",
       "0  의왕시는 코로나 19 장기화로 진로체험 및 문화 활동이 어려운 청소년들을 위해 진로...   \n",
       "1  코로나19 가짜뉴스 대책단(백종덕ㆍ최정민ㆍ서성민 변호사 공동단장)이 지난 29일 이...   \n",
       "2  지금까지와는 전혀 다른 언택트 시대가 다가오면서, 마케팅 업계에도 변화의 바람이 불...   \n",
       "3  [앵커] ..프로야구에 이어 프로축구도 코로나 19 사태 뒤 처음으로 관중 입장이 ...   \n",
       "4  [앵커] ..전세계적으로 재확산 중인 코로나19가 진정될 조짐을 안 보이는 가운데 ...   \n",
       "\n",
       "                                                특성추출  \n",
       "0  의왕시,온라인,실시간,의왕,가요제,엔터테이너,dream,오프라인,김상돈,유튜브,트롯...  \n",
       "1  이재명,가짜뉴스,악의적,공동단장,백종덕,허위사실,코로나19,90건,온라인,살해설,조...  \n",
       "2           오프라인,모츠,한국,온라인,런칭,전문가,언택트,캐롯닷밀,뉴딜,엘튼,조슈아  \n",
       "3  팬들,경기장,광주도,선수들,역전승,최용수,전북도,양시창,전후좌우,2칸,엄원,모라이스...  \n",
       "4  미국,코로나19,제약사,사노피,유럽연합,행정부,유럽,상용화,5억,입도선매,사람들,임...  "
      ]
     },
     "execution_count": 14,
     "metadata": {},
     "output_type": "execute_result"
    }
   ],
   "source": [
    "data.head()"
   ]
  },
  {
   "cell_type": "code",
   "execution_count": 15,
   "metadata": {},
   "outputs": [
    {
     "data": {
      "text/html": [
       "<div>\n",
       "<style scoped>\n",
       "    .dataframe tbody tr th:only-of-type {\n",
       "        vertical-align: middle;\n",
       "    }\n",
       "\n",
       "    .dataframe tbody tr th {\n",
       "        vertical-align: top;\n",
       "    }\n",
       "\n",
       "    .dataframe thead th {\n",
       "        text-align: right;\n",
       "    }\n",
       "</style>\n",
       "<table border=\"1\" class=\"dataframe\">\n",
       "  <thead>\n",
       "    <tr style=\"text-align: right;\">\n",
       "      <th></th>\n",
       "      <th>본문</th>\n",
       "      <th>특성추출</th>\n",
       "      <th>decoder_input</th>\n",
       "      <th>decoder_target</th>\n",
       "    </tr>\n",
       "  </thead>\n",
       "  <tbody>\n",
       "    <tr>\n",
       "      <th>0</th>\n",
       "      <td>의왕시는 코로나 19 장기화로 진로체험 및 문화 활동이 어려운 청소년들을 위해 진로...</td>\n",
       "      <td>의왕시,온라인,실시간,의왕,가요제,엔터테이너,dream,오프라인,김상돈,유튜브,트롯...</td>\n",
       "      <td>sostoken 의왕시,온라인,실시간,의왕,가요제,엔터테이너,dream,오프라인,김...</td>\n",
       "      <td>의왕시,온라인,실시간,의왕,가요제,엔터테이너,dream,오프라인,김상돈,유튜브,트롯...</td>\n",
       "    </tr>\n",
       "    <tr>\n",
       "      <th>1</th>\n",
       "      <td>코로나19 가짜뉴스 대책단(백종덕ㆍ최정민ㆍ서성민 변호사 공동단장)이 지난 29일 이...</td>\n",
       "      <td>이재명,가짜뉴스,악의적,공동단장,백종덕,허위사실,코로나19,90건,온라인,살해설,조...</td>\n",
       "      <td>sostoken 이재명,가짜뉴스,악의적,공동단장,백종덕,허위사실,코로나19,90건,...</td>\n",
       "      <td>이재명,가짜뉴스,악의적,공동단장,백종덕,허위사실,코로나19,90건,온라인,살해설,조...</td>\n",
       "    </tr>\n",
       "    <tr>\n",
       "      <th>2</th>\n",
       "      <td>지금까지와는 전혀 다른 언택트 시대가 다가오면서, 마케팅 업계에도 변화의 바람이 불...</td>\n",
       "      <td>오프라인,모츠,한국,온라인,런칭,전문가,언택트,캐롯닷밀,뉴딜,엘튼,조슈아</td>\n",
       "      <td>sostoken 오프라인,모츠,한국,온라인,런칭,전문가,언택트,캐롯닷밀,뉴딜,엘튼,조슈아</td>\n",
       "      <td>오프라인,모츠,한국,온라인,런칭,전문가,언택트,캐롯닷밀,뉴딜,엘튼,조슈아 eostoken</td>\n",
       "    </tr>\n",
       "    <tr>\n",
       "      <th>3</th>\n",
       "      <td>[앵커] ..프로야구에 이어 프로축구도 코로나 19 사태 뒤 처음으로 관중 입장이 ...</td>\n",
       "      <td>팬들,경기장,광주도,선수들,역전승,최용수,전북도,양시창,전후좌우,2칸,엄원,모라이스...</td>\n",
       "      <td>sostoken 팬들,경기장,광주도,선수들,역전승,최용수,전북도,양시창,전후좌우,2...</td>\n",
       "      <td>팬들,경기장,광주도,선수들,역전승,최용수,전북도,양시창,전후좌우,2칸,엄원,모라이스...</td>\n",
       "    </tr>\n",
       "    <tr>\n",
       "      <th>4</th>\n",
       "      <td>[앵커] ..전세계적으로 재확산 중인 코로나19가 진정될 조짐을 안 보이는 가운데 ...</td>\n",
       "      <td>미국,코로나19,제약사,사노피,유럽연합,행정부,유럽,상용화,5억,입도선매,사람들,임...</td>\n",
       "      <td>sostoken 미국,코로나19,제약사,사노피,유럽연합,행정부,유럽,상용화,5억,입...</td>\n",
       "      <td>미국,코로나19,제약사,사노피,유럽연합,행정부,유럽,상용화,5억,입도선매,사람들,임...</td>\n",
       "    </tr>\n",
       "  </tbody>\n",
       "</table>\n",
       "</div>"
      ],
      "text/plain": [
       "                                                  본문  \\\n",
       "0  의왕시는 코로나 19 장기화로 진로체험 및 문화 활동이 어려운 청소년들을 위해 진로...   \n",
       "1  코로나19 가짜뉴스 대책단(백종덕ㆍ최정민ㆍ서성민 변호사 공동단장)이 지난 29일 이...   \n",
       "2  지금까지와는 전혀 다른 언택트 시대가 다가오면서, 마케팅 업계에도 변화의 바람이 불...   \n",
       "3  [앵커] ..프로야구에 이어 프로축구도 코로나 19 사태 뒤 처음으로 관중 입장이 ...   \n",
       "4  [앵커] ..전세계적으로 재확산 중인 코로나19가 진정될 조짐을 안 보이는 가운데 ...   \n",
       "\n",
       "                                                특성추출  \\\n",
       "0  의왕시,온라인,실시간,의왕,가요제,엔터테이너,dream,오프라인,김상돈,유튜브,트롯...   \n",
       "1  이재명,가짜뉴스,악의적,공동단장,백종덕,허위사실,코로나19,90건,온라인,살해설,조...   \n",
       "2           오프라인,모츠,한국,온라인,런칭,전문가,언택트,캐롯닷밀,뉴딜,엘튼,조슈아   \n",
       "3  팬들,경기장,광주도,선수들,역전승,최용수,전북도,양시창,전후좌우,2칸,엄원,모라이스...   \n",
       "4  미국,코로나19,제약사,사노피,유럽연합,행정부,유럽,상용화,5억,입도선매,사람들,임...   \n",
       "\n",
       "                                       decoder_input  \\\n",
       "0  sostoken 의왕시,온라인,실시간,의왕,가요제,엔터테이너,dream,오프라인,김...   \n",
       "1  sostoken 이재명,가짜뉴스,악의적,공동단장,백종덕,허위사실,코로나19,90건,...   \n",
       "2  sostoken 오프라인,모츠,한국,온라인,런칭,전문가,언택트,캐롯닷밀,뉴딜,엘튼,조슈아   \n",
       "3  sostoken 팬들,경기장,광주도,선수들,역전승,최용수,전북도,양시창,전후좌우,2...   \n",
       "4  sostoken 미국,코로나19,제약사,사노피,유럽연합,행정부,유럽,상용화,5억,입...   \n",
       "\n",
       "                                      decoder_target  \n",
       "0  의왕시,온라인,실시간,의왕,가요제,엔터테이너,dream,오프라인,김상돈,유튜브,트롯...  \n",
       "1  이재명,가짜뉴스,악의적,공동단장,백종덕,허위사실,코로나19,90건,온라인,살해설,조...  \n",
       "2  오프라인,모츠,한국,온라인,런칭,전문가,언택트,캐롯닷밀,뉴딜,엘튼,조슈아 eostoken  \n",
       "3  팬들,경기장,광주도,선수들,역전승,최용수,전북도,양시창,전후좌우,2칸,엄원,모라이스...  \n",
       "4  미국,코로나19,제약사,사노피,유럽연합,행정부,유럽,상용화,5억,입도선매,사람들,임...  "
      ]
     },
     "execution_count": 15,
     "metadata": {},
     "output_type": "execute_result"
    }
   ],
   "source": [
    "# 요약 데이터에는 시작 토큰과 종료 토큰을 추가한다.\n",
    "data['decoder_input'] = data['특성추출'].apply(lambda x : 'sostoken '+ x)\n",
    "data['decoder_target'] = data['특성추출'].apply(lambda x : x + ' eostoken')\n",
    "data.head()"
   ]
  },
  {
   "cell_type": "code",
   "execution_count": 16,
   "metadata": {},
   "outputs": [],
   "source": [
    "encoder_input = np.array(data['본문'])\n",
    "decoder_input = np.array(data['decoder_input'])\n",
    "decoder_target = np.array(data['decoder_target'])"
   ]
  },
  {
   "cell_type": "code",
   "execution_count": 17,
   "metadata": {},
   "outputs": [
    {
     "name": "stdout",
     "output_type": "stream",
     "text": [
      "[52963 17225 18121 ... 84389 26023  1298]\n"
     ]
    }
   ],
   "source": [
    "indices = np.arange(encoder_input.shape[0])\n",
    "np.random.shuffle(indices)\n",
    "print(indices)"
   ]
  },
  {
   "cell_type": "code",
   "execution_count": 18,
   "metadata": {},
   "outputs": [],
   "source": [
    "encoder_input = encoder_input[indices]\n",
    "decoder_input = decoder_input[indices]\n",
    "decoder_target = decoder_target[indices]"
   ]
  },
  {
   "cell_type": "code",
   "execution_count": 19,
   "metadata": {},
   "outputs": [
    {
     "name": "stdout",
     "output_type": "stream",
     "text": [
      "테스트 데이터의 수 : 18431\n"
     ]
    }
   ],
   "source": [
    "n_of_val = int(len(encoder_input)*0.2)\n",
    "print('테스트 데이터의 수 :',n_of_val)"
   ]
  },
  {
   "cell_type": "code",
   "execution_count": 20,
   "metadata": {},
   "outputs": [
    {
     "name": "stdout",
     "output_type": "stream",
     "text": [
      "훈련 데이터의 개수 : 73727\n",
      "훈련 레이블의 개수 : 73727\n",
      "테스트 데이터의 개수 : 18431\n",
      "테스트 레이블의 개수 : 18431\n"
     ]
    }
   ],
   "source": [
    "encoder_input_train = encoder_input[:-n_of_val]\n",
    "decoder_input_train = decoder_input[:-n_of_val]\n",
    "decoder_target_train = decoder_target[:-n_of_val]\n",
    "\n",
    "encoder_input_test = encoder_input[-n_of_val:]\n",
    "decoder_input_test = decoder_input[-n_of_val:]\n",
    "decoder_target_test = decoder_target[-n_of_val:]\n",
    "\n",
    "print('훈련 데이터의 개수 :', len(encoder_input_train))\n",
    "print('훈련 레이블의 개수 :',len(decoder_input_train))\n",
    "print('테스트 데이터의 개수 :',len(encoder_input_test))\n",
    "print('테스트 레이블의 개수 :',len(decoder_input_test))"
   ]
  },
  {
   "cell_type": "code",
   "execution_count": 21,
   "metadata": {},
   "outputs": [],
   "source": [
    "src_tokenizer = Tokenizer()\n",
    "src_tokenizer.fit_on_texts(encoder_input_train)"
   ]
  },
  {
   "cell_type": "code",
   "execution_count": 22,
   "metadata": {},
   "outputs": [
    {
     "name": "stdout",
     "output_type": "stream",
     "text": [
      "단어 집합(vocabulary)의 크기 : 361204\n",
      "등장 빈도가 6번 이하인 희귀 단어의 수 : 317741\n",
      "단어 집합에서 희귀 단어를 제외시킬 경우의 단어 집합의 크기 : 43463\n",
      "단어 집합에서 희귀 단어의 비율 : 87.96718751730324\n",
      "전체 등장 빈도에서 희귀 단어 등장 빈도 비율 : 17.664862369238886\n"
     ]
    }
   ],
   "source": [
    "threshold = 7\n",
    "total_cnt = len(src_tokenizer.word_index) # 단어의 수\n",
    "rare_cnt = 0 # 등장 빈도수가 threshold보다 작은 단어의 개수를 카운트\n",
    "total_freq = 0 # 훈련 데이터의 전체 단어 빈도수 총 합\n",
    "rare_freq = 0 # 등장 빈도수가 threshold보다 작은 단어의 등장 빈도수의 총 합\n",
    "\n",
    "# 단어와 빈도수의 쌍(pair)을 key와 value로 받는다.\n",
    "for key, value in src_tokenizer.word_counts.items():\n",
    "    total_freq = total_freq + value\n",
    "\n",
    "    # 단어의 등장 빈도수가 threshold보다 작으면\n",
    "    if(value < threshold):\n",
    "        rare_cnt = rare_cnt + 1\n",
    "        rare_freq = rare_freq + value\n",
    "\n",
    "print('단어 집합(vocabulary)의 크기 :',total_cnt)\n",
    "print('등장 빈도가 %s번 이하인 희귀 단어의 수 : %s'%(threshold - 1, rare_cnt))\n",
    "print('단어 집합에서 희귀 단어를 제외시킬 경우의 단어 집합의 크기 : %s'%(total_cnt - rare_cnt))\n",
    "print(\"단어 집합에서 희귀 단어의 비율 :\", (rare_cnt / total_cnt)*100)\n",
    "print(\"전체 등장 빈도에서 희귀 단어 등장 빈도 비율 :\", (rare_freq / total_freq)*100)"
   ]
  },
  {
   "cell_type": "code",
   "execution_count": 23,
   "metadata": {},
   "outputs": [],
   "source": [
    "src_vocab = 8000\n",
    "src_tokenizer = Tokenizer(num_words = src_vocab) \n",
    "src_tokenizer.fit_on_texts(encoder_input_train)\n",
    "\n",
    "# 텍스트 시퀀스를 정수 시퀀스로 변환\n",
    "encoder_input_train = src_tokenizer.texts_to_sequences(encoder_input_train) \n",
    "encoder_input_test = src_tokenizer.texts_to_sequences(encoder_input_test)"
   ]
  },
  {
   "cell_type": "code",
   "execution_count": 24,
   "metadata": {},
   "outputs": [
    {
     "name": "stdout",
     "output_type": "stream",
     "text": [
      "[[33, 372, 1218, 1189, 126, 10, 2818, 1403, 396, 3061, 51, 27, 146, 62, 2007, 3, 1199, 6767, 492, 27, 146], [1325, 109, 2103, 540, 49, 160, 56, 122, 3036, 125, 15, 2103, 56, 122, 2458, 5058, 2819, 1749], [19, 144, 242, 628, 2289, 1458, 391, 160, 35, 2900, 590, 1063, 3262, 1219, 101, 207, 27, 3097, 276, 206, 368, 37]]\n"
     ]
    }
   ],
   "source": [
    "print(encoder_input_train[:3])"
   ]
  },
  {
   "cell_type": "code",
   "execution_count": 25,
   "metadata": {},
   "outputs": [],
   "source": [
    "tar_tokenizer = Tokenizer()\n",
    "tar_tokenizer.fit_on_texts(decoder_input_train)"
   ]
  },
  {
   "cell_type": "code",
   "execution_count": 26,
   "metadata": {},
   "outputs": [
    {
     "name": "stdout",
     "output_type": "stream",
     "text": [
      "단어 집합(vocabulary)의 크기 : 166170\n",
      "등장 빈도가 5번 이하인 희귀 단어의 수 : 138533\n",
      "단어 집합에서 희귀 단어를 제외시킬 경우의 단어 집합의 크기 : 27637\n",
      "단어 집합에서 희귀 단어의 비율 : 83.36823734729494\n",
      "전체 등장 빈도에서 희귀 단어 등장 빈도 비율 : 13.857683434408482\n"
     ]
    }
   ],
   "source": [
    "threshold = 6\n",
    "total_cnt = len(tar_tokenizer.word_index) # 단어의 수\n",
    "rare_cnt = 0 # 등장 빈도수가 threshold보다 작은 단어의 개수를 카운트\n",
    "total_freq = 0 # 훈련 데이터의 전체 단어 빈도수 총 합\n",
    "rare_freq = 0 # 등장 빈도수가 threshold보다 작은 단어의 등장 빈도수의 총 합\n",
    "\n",
    "# 단어와 빈도수의 쌍(pair)을 key와 value로 받는다.\n",
    "for key, value in tar_tokenizer.word_counts.items():\n",
    "    total_freq = total_freq + value\n",
    "\n",
    "    # 단어의 등장 빈도수가 threshold보다 작으면\n",
    "    if(value < threshold):\n",
    "        rare_cnt = rare_cnt + 1\n",
    "        rare_freq = rare_freq + value\n",
    "\n",
    "print('단어 집합(vocabulary)의 크기 :',total_cnt)\n",
    "print('등장 빈도가 %s번 이하인 희귀 단어의 수 : %s'%(threshold - 1, rare_cnt))\n",
    "print('단어 집합에서 희귀 단어를 제외시킬 경우의 단어 집합의 크기 : %s'%(total_cnt - rare_cnt))\n",
    "print(\"단어 집합에서 희귀 단어의 비율 :\", (rare_cnt / total_cnt)*100)\n",
    "print(\"전체 등장 빈도에서 희귀 단어 등장 빈도 비율 :\", (rare_freq / total_freq)*100)"
   ]
  },
  {
   "cell_type": "code",
   "execution_count": 27,
   "metadata": {},
   "outputs": [],
   "source": [
    "tar_vocab = 2000\n",
    "tar_tokenizer = Tokenizer(num_words = tar_vocab) \n",
    "tar_tokenizer.fit_on_texts(decoder_input_train)\n",
    "tar_tokenizer.fit_on_texts(decoder_target_train)"
   ]
  },
  {
   "cell_type": "code",
   "execution_count": 28,
   "metadata": {},
   "outputs": [],
   "source": [
    "# 텍스트 시퀀스를 정수 시퀀스로 변환\n",
    "decoder_input_train = tar_tokenizer.texts_to_sequences(decoder_input_train) \n",
    "decoder_target_train = tar_tokenizer.texts_to_sequences(decoder_target_train)\n",
    "decoder_input_test = tar_tokenizer.texts_to_sequences(decoder_input_test)\n",
    "decoder_target_test = tar_tokenizer.texts_to_sequences(decoder_target_test)"
   ]
  },
  {
   "cell_type": "code",
   "execution_count": 29,
   "metadata": {},
   "outputs": [
    {
     "name": "stdout",
     "output_type": "stream",
     "text": [
      "[[2, 176, 1776, 806, 870, 294, 137, 1, 480, 1138, 1929, 1369, 638, 12, 125, 54, 726, 119, 11], [2, 390, 880, 943, 1424, 1579], [2, 617, 5, 12, 10, 4, 92, 199, 95], [2, 699, 727, 778, 1777, 1009, 1557, 830, 1263, 1317, 1664, 11, 1730, 1439, 1, 191], [2, 1, 1505, 459, 482, 7, 140, 107, 249, 1252, 24, 94]]\n"
     ]
    }
   ],
   "source": [
    "print(decoder_input_train[:5])"
   ]
  },
  {
   "cell_type": "code",
   "execution_count": 30,
   "metadata": {},
   "outputs": [
    {
     "name": "stdout",
     "output_type": "stream",
     "text": [
      "[[176, 1776, 806, 870, 294, 137, 1, 480, 1138, 1929, 1369, 638, 12, 125, 54, 726, 119, 11, 3], [390, 880, 943, 1424, 1579, 3], [617, 5, 12, 10, 4, 92, 199, 95, 3], [699, 727, 778, 1777, 1009, 1557, 830, 1263, 1317, 1664, 11, 1730, 1439, 1, 191, 3], [1, 1505, 459, 482, 7, 140, 107, 249, 1252, 24, 94, 3]]\n"
     ]
    }
   ],
   "source": [
    "print(decoder_target_train[:5])"
   ]
  },
  {
   "cell_type": "code",
   "execution_count": 31,
   "metadata": {},
   "outputs": [],
   "source": [
    "drop_train = [index for index, sentence in enumerate(decoder_input_train) if len(sentence) == 1]\n",
    "drop_test = [index for index, sentence in enumerate(decoder_input_test) if len(sentence) == 1]"
   ]
  },
  {
   "cell_type": "code",
   "execution_count": 32,
   "metadata": {},
   "outputs": [
    {
     "name": "stdout",
     "output_type": "stream",
     "text": [
      "삭제할 훈련 데이터의 개수 : 77\n",
      "삭제할 테스트 데이터의 개수 : 24\n"
     ]
    }
   ],
   "source": [
    "print('삭제할 훈련 데이터의 개수 :',len(drop_train))\n",
    "print('삭제할 테스트 데이터의 개수 :',len(drop_test))"
   ]
  },
  {
   "cell_type": "code",
   "execution_count": 33,
   "metadata": {},
   "outputs": [
    {
     "name": "stdout",
     "output_type": "stream",
     "text": [
      "훈련 데이터의 개수 : 73650\n",
      "훈련 레이블의 개수 : 73650\n",
      "테스트 데이터의 개수 : 18407\n",
      "테스트 레이블의 개수 : 18407\n"
     ]
    }
   ],
   "source": [
    "encoder_input_train = np.delete(encoder_input_train, drop_train, axis=0)\n",
    "decoder_input_train = np.delete(decoder_input_train, drop_train, axis=0)\n",
    "decoder_target_train = np.delete(decoder_target_train, drop_train, axis=0)\n",
    "\n",
    "encoder_input_test = np.delete(encoder_input_test, drop_test, axis=0)\n",
    "decoder_input_test = np.delete(decoder_input_test, drop_test, axis=0)\n",
    "decoder_target_test = np.delete(decoder_target_test, drop_test, axis=0)\n",
    "\n",
    "print('훈련 데이터의 개수 :', len(encoder_input_train))\n",
    "print('훈련 레이블의 개수 :',len(decoder_input_train))\n",
    "print('테스트 데이터의 개수 :',len(encoder_input_test))\n",
    "print('테스트 레이블의 개수 :',len(decoder_input_test))"
   ]
  },
  {
   "cell_type": "code",
   "execution_count": 34,
   "metadata": {},
   "outputs": [],
   "source": [
    "encoder_input_train = pad_sequences(encoder_input_train, maxlen = text_max_len, padding='post')\n",
    "encoder_input_test = pad_sequences(encoder_input_test, maxlen = text_max_len, padding='post')\n",
    "decoder_input_train = pad_sequences(decoder_input_train, maxlen = keyword_max_len, padding='post')\n",
    "decoder_target_train = pad_sequences(decoder_target_train, maxlen = keyword_max_len, padding='post')\n",
    "decoder_input_test = pad_sequences(decoder_input_test, maxlen = keyword_max_len, padding='post')\n",
    "decoder_target_test = pad_sequences(decoder_target_test, maxlen = keyword_max_len, padding='post')"
   ]
  },
  {
   "cell_type": "code",
   "execution_count": 35,
   "metadata": {},
   "outputs": [],
   "source": [
    "from tensorflow.keras.layers import Input, LSTM, Embedding, Dense, Concatenate\n",
    "from tensorflow.keras.models import Model\n",
    "from tensorflow.keras.callbacks import EarlyStopping, ModelCheckpoint"
   ]
  },
  {
   "cell_type": "code",
   "execution_count": 36,
   "metadata": {},
   "outputs": [],
   "source": [
    "embedding_dim = 128\n",
    "hidden_size = 256\n",
    "\n",
    "# 인코더\n",
    "encoder_inputs = Input(shape=(text_max_len,))\n",
    "\n",
    "# 인코더의 임베딩 층\n",
    "enc_emb = Embedding(src_vocab, embedding_dim)(encoder_inputs)\n",
    "\n",
    "# 인코더의 LSTM 1\n",
    "encoder_lstm1 = LSTM(hidden_size, return_sequences=True, return_state=True ,dropout = 0.4, recurrent_dropout = 0.4)\n",
    "encoder_output1, state_h1, state_c1 = encoder_lstm1(enc_emb)\n",
    "\n",
    "# 인코더의 LSTM 2\n",
    "encoder_lstm2 = LSTM(hidden_size, return_sequences=True, return_state=True, dropout=0.4, recurrent_dropout=0.4)\n",
    "encoder_output2, state_h2, state_c2 = encoder_lstm2(encoder_output1)\n",
    "\n",
    "# 인코더의 LSTM 3\n",
    "encoder_lstm3 = LSTM(hidden_size, return_state=True, return_sequences=True, dropout=0.4, recurrent_dropout=0.4)\n",
    "encoder_outputs, state_h, state_c= encoder_lstm3(encoder_output2)"
   ]
  },
  {
   "cell_type": "code",
   "execution_count": 37,
   "metadata": {},
   "outputs": [],
   "source": [
    "# 디코더\n",
    "decoder_inputs = Input(shape=(None,))\n",
    "\n",
    "# 디코더의 임베딩 층\n",
    "dec_emb_layer = Embedding(tar_vocab, embedding_dim)\n",
    "dec_emb = dec_emb_layer(decoder_inputs)\n",
    "\n",
    "# 디코더의 LSTM\n",
    "decoder_lstm = LSTM(hidden_size, return_sequences = True, return_state = True, dropout = 0.4, recurrent_dropout=0.2)\n",
    "decoder_outputs, _, _ = decoder_lstm(dec_emb, initial_state = [state_h, state_c])"
   ]
  },
  {
   "cell_type": "code",
   "execution_count": 38,
   "metadata": {},
   "outputs": [
    {
     "name": "stdout",
     "output_type": "stream",
     "text": [
      "Model: \"functional_1\"\n",
      "__________________________________________________________________________________________________\n",
      "Layer (type)                    Output Shape         Param #     Connected to                     \n",
      "==================================================================================================\n",
      "input_1 (InputLayer)            [(None, 50)]         0                                            \n",
      "__________________________________________________________________________________________________\n",
      "embedding (Embedding)           (None, 50, 128)      1024000     input_1[0][0]                    \n",
      "__________________________________________________________________________________________________\n",
      "lstm (LSTM)                     [(None, 50, 256), (N 394240      embedding[0][0]                  \n",
      "__________________________________________________________________________________________________\n",
      "input_2 (InputLayer)            [(None, None)]       0                                            \n",
      "__________________________________________________________________________________________________\n",
      "lstm_1 (LSTM)                   [(None, 50, 256), (N 525312      lstm[0][0]                       \n",
      "__________________________________________________________________________________________________\n",
      "embedding_1 (Embedding)         (None, None, 128)    256000      input_2[0][0]                    \n",
      "__________________________________________________________________________________________________\n",
      "lstm_2 (LSTM)                   [(None, 50, 256), (N 525312      lstm_1[0][0]                     \n",
      "__________________________________________________________________________________________________\n",
      "lstm_3 (LSTM)                   [(None, None, 256),  394240      embedding_1[0][0]                \n",
      "                                                                 lstm_2[0][1]                     \n",
      "                                                                 lstm_2[0][2]                     \n",
      "__________________________________________________________________________________________________\n",
      "dense (Dense)                   (None, None, 2000)   514000      lstm_3[0][0]                     \n",
      "==================================================================================================\n",
      "Total params: 3,633,104\n",
      "Trainable params: 3,633,104\n",
      "Non-trainable params: 0\n",
      "__________________________________________________________________________________________________\n"
     ]
    }
   ],
   "source": [
    "# 디코더의 출력층\n",
    "decoder_softmax_layer = Dense(tar_vocab, activation = 'softmax')\n",
    "decoder_softmax_outputs = decoder_softmax_layer(decoder_outputs) \n",
    "\n",
    "# 모델 정의\n",
    "model = Model([encoder_inputs, decoder_inputs], decoder_softmax_outputs)\n",
    "model.summary()"
   ]
  },
  {
   "cell_type": "code",
   "execution_count": 39,
   "metadata": {},
   "outputs": [],
   "source": [
    "urllib.request.urlretrieve(\"https://raw.githubusercontent.com/thushv89/attention_keras/master/src/layers/attention.py\", filename=\"attention.py\")\n",
    "from attention import AttentionLayer"
   ]
  },
  {
   "cell_type": "code",
   "execution_count": 40,
   "metadata": {},
   "outputs": [
    {
     "name": "stdout",
     "output_type": "stream",
     "text": [
      "Model: \"functional_3\"\n",
      "__________________________________________________________________________________________________\n",
      "Layer (type)                    Output Shape         Param #     Connected to                     \n",
      "==================================================================================================\n",
      "input_1 (InputLayer)            [(None, 50)]         0                                            \n",
      "__________________________________________________________________________________________________\n",
      "embedding (Embedding)           (None, 50, 128)      1024000     input_1[0][0]                    \n",
      "__________________________________________________________________________________________________\n",
      "lstm (LSTM)                     [(None, 50, 256), (N 394240      embedding[0][0]                  \n",
      "__________________________________________________________________________________________________\n",
      "input_2 (InputLayer)            [(None, None)]       0                                            \n",
      "__________________________________________________________________________________________________\n",
      "lstm_1 (LSTM)                   [(None, 50, 256), (N 525312      lstm[0][0]                       \n",
      "__________________________________________________________________________________________________\n",
      "embedding_1 (Embedding)         (None, None, 128)    256000      input_2[0][0]                    \n",
      "__________________________________________________________________________________________________\n",
      "lstm_2 (LSTM)                   [(None, 50, 256), (N 525312      lstm_1[0][0]                     \n",
      "__________________________________________________________________________________________________\n",
      "lstm_3 (LSTM)                   [(None, None, 256),  394240      embedding_1[0][0]                \n",
      "                                                                 lstm_2[0][1]                     \n",
      "                                                                 lstm_2[0][2]                     \n",
      "__________________________________________________________________________________________________\n",
      "attention_layer (AttentionLayer ((None, None, 256),  131328      lstm_2[0][0]                     \n",
      "                                                                 lstm_3[0][0]                     \n",
      "__________________________________________________________________________________________________\n",
      "concat_layer (Concatenate)      (None, None, 512)    0           lstm_3[0][0]                     \n",
      "                                                                 attention_layer[0][0]            \n",
      "__________________________________________________________________________________________________\n",
      "dense_1 (Dense)                 (None, None, 2000)   1026000     concat_layer[0][0]               \n",
      "==================================================================================================\n",
      "Total params: 4,276,432\n",
      "Trainable params: 4,276,432\n",
      "Non-trainable params: 0\n",
      "__________________________________________________________________________________________________\n"
     ]
    }
   ],
   "source": [
    "# 어텐션 층(어텐션 함수)\n",
    "attn_layer = AttentionLayer(name='attention_layer')\n",
    "attn_out, attn_states = attn_layer([encoder_outputs, decoder_outputs])\n",
    "\n",
    "# 어텐션의 결과와 디코더의 hidden state들을 연결\n",
    "decoder_concat_input = Concatenate(axis = -1, name='concat_layer')([decoder_outputs, attn_out])\n",
    "\n",
    "# 디코더의 출력층\n",
    "decoder_softmax_layer = Dense(tar_vocab, activation='softmax')\n",
    "decoder_softmax_outputs = decoder_softmax_layer(decoder_concat_input)\n",
    "\n",
    "# 모델 정의\n",
    "model = Model([encoder_inputs, decoder_inputs], decoder_softmax_outputs)\n",
    "model.summary()"
   ]
  },
  {
   "cell_type": "code",
   "execution_count": 41,
   "metadata": {},
   "outputs": [],
   "source": [
    "model.compile(optimizer='rmsprop', loss='sparse_categorical_crossentropy')"
   ]
  },
  {
   "cell_type": "code",
   "execution_count": 42,
   "metadata": {},
   "outputs": [
    {
     "name": "stdout",
     "output_type": "stream",
     "text": [
      "Epoch 1/10\n",
      "288/288 [==============================] - 6680s 23s/step - loss: 5.6188 - val_loss: 5.1703\n",
      "Epoch 2/10\n",
      "288/288 [==============================] - 5000s 17s/step - loss: 5.0285 - val_loss: 4.8852\n",
      "Epoch 3/10\n",
      "288/288 [==============================] - 37594s 131s/step - loss: 4.8021 - val_loss: 4.7167\n",
      "Epoch 4/10\n",
      "288/288 [==============================] - 11871s 41s/step - loss: 4.6522 - val_loss: 4.6179\n",
      "Epoch 5/10\n",
      "288/288 [==============================] - 3318s 12s/step - loss: 4.5409 - val_loss: 4.5416\n",
      "Epoch 6/10\n",
      "288/288 [==============================] - 3334s 12s/step - loss: 4.4493 - val_loss: 4.4965\n",
      "Epoch 7/10\n",
      "288/288 [==============================] - 3296s 11s/step - loss: 4.3724 - val_loss: 4.4558\n",
      "Epoch 8/10\n",
      "288/288 [==============================] - 4243s 15s/step - loss: 4.3062 - val_loss: 4.4252\n",
      "Epoch 9/10\n",
      "288/288 [==============================] - 4009s 14s/step - loss: 4.2445 - val_loss: 4.4054\n",
      "Epoch 10/10\n",
      "288/288 [==============================] - 4200s 15s/step - loss: 4.1921 - val_loss: 4.3813\n"
     ]
    }
   ],
   "source": [
    "es = EarlyStopping(monitor='val_loss', mode='min', verbose=1, patience = 2)\n",
    "history = model.fit(x = [encoder_input_train, decoder_input_train], y = decoder_target_train, \\\n",
    "          validation_data = ([encoder_input_test, decoder_input_test], decoder_target_test),\n",
    "          batch_size = 256, callbacks=[es], epochs = 10)"
   ]
  },
  {
   "cell_type": "code",
   "execution_count": 43,
   "metadata": {},
   "outputs": [
    {
     "data": {
      "image/png": "[encoded data removed]",
      "text/plain": [
       "<Figure size 432x288 with 1 Axes>"
      ]
     },
     "metadata": {
      "needs_background": "light"
     },
     "output_type": "display_data"
    }
   ],
   "source": [
    "plt.plot(history.history['loss'], label='train')\n",
    "plt.plot(history.history['val_loss'], label='test')\n",
    "plt.legend()\n",
    "plt.show()"
   ]
  },
  {
   "cell_type": "code",
   "execution_count": 44,
   "metadata": {},
   "outputs": [],
   "source": [
    "src_index_to_word = src_tokenizer.index_word # 원문 단어 집합에서 정수 -> 단어를 얻음\n",
    "tar_word_to_index = tar_tokenizer.word_index # 키워드 단어 집합에서 단어 -> 정수를 얻음\n",
    "tar_index_to_word = tar_tokenizer.index_word # 키워드 단어 집합에서 정수 -> 단어를 얻음"
   ]
  },
  {
   "cell_type": "code",
   "execution_count": 45,
   "metadata": {},
   "outputs": [],
   "source": [
    "# 인코더 설계\n",
    "encoder_model = Model(inputs=encoder_inputs, outputs=[encoder_outputs, state_h, state_c])"
   ]
  },
  {
   "cell_type": "code",
   "execution_count": 46,
   "metadata": {},
   "outputs": [],
   "source": [
    "# 이전 시점의 상태들을 저장하는 텐서\n",
    "decoder_state_input_h = Input(shape=(hidden_size,))\n",
    "decoder_state_input_c = Input(shape=(hidden_size,))\n",
    "\n",
    "dec_emb2 = dec_emb_layer(decoder_inputs)\n",
    "# 문장의 다음 단어를 예측하기 위해서 초기 상태(initial_state)를 이전 시점의 상태로 사용. 이는 뒤의 함수 decode_sequence()에 구현\n",
    "# 훈련 과정에서와 달리 LSTM의 리턴하는 은닉 상태와 셀 상태인 state_h와 state_c를 버리지 않음.\n",
    "decoder_outputs2, state_h2, state_c2 = decoder_lstm(dec_emb2, initial_state=[decoder_state_input_h, decoder_state_input_c])"
   ]
  },
  {
   "cell_type": "code",
   "execution_count": 47,
   "metadata": {},
   "outputs": [],
   "source": [
    "# 어텐션 함수\n",
    "decoder_hidden_state_input = Input(shape=(text_max_len, hidden_size))\n",
    "attn_out_inf, attn_states_inf = attn_layer([decoder_hidden_state_input, decoder_outputs2])\n",
    "decoder_inf_concat = Concatenate(axis=-1, name='concat')([decoder_outputs2, attn_out_inf])\n",
    "\n",
    "# 디코더의 출력층\n",
    "decoder_outputs2 = decoder_softmax_layer(decoder_inf_concat) \n",
    "\n",
    "# 최종 디코더 모델\n",
    "decoder_model = Model(\n",
    "    [decoder_inputs] + [decoder_hidden_state_input,decoder_state_input_h, decoder_state_input_c],\n",
    "    [decoder_outputs2] + [state_h2, state_c2])"
   ]
  },
  {
   "cell_type": "code",
   "execution_count": 48,
   "metadata": {},
   "outputs": [],
   "source": [
    "def decode_sequence(input_seq):\n",
    "    # 입력으로부터 인코더의 상태를 얻음\n",
    "    e_out, e_h, e_c = encoder_model.predict(input_seq)\n",
    "\n",
    "     # <SOS>에 해당하는 토큰 생성\n",
    "    target_seq = np.zeros((1,1))\n",
    "    target_seq[0, 0] = tar_word_to_index['sostoken']\n",
    "\n",
    "    stop_condition = False\n",
    "    decoded_sentence = ''\n",
    "    while not stop_condition: # stop_condition이 True가 될 때까지 루프 반복\n",
    "\n",
    "        output_tokens, h, c = decoder_model.predict([target_seq] + [e_out, e_h, e_c])\n",
    "        sampled_token_index = np.argmax(output_tokens[0, -1, :])\n",
    "        sampled_token = tar_index_to_word[sampled_token_index]\n",
    "\n",
    "        if(sampled_token!='eostoken'):\n",
    "            decoded_sentence += ' '+sampled_token\n",
    "\n",
    "        #  <eos>에 도달하거나 최대 길이를 넘으면 중단.\n",
    "        if (sampled_token == 'eostoken'  or len(decoded_sentence.split()) >= (keyword_max_len-1)):\n",
    "            stop_condition = True\n",
    "\n",
    "        # 길이가 1인 타겟 시퀀스를 업데이트\n",
    "        target_seq = np.zeros((1,1))\n",
    "        target_seq[0, 0] = sampled_token_index\n",
    "\n",
    "        # 상태를 업데이트 합니다.\n",
    "        e_h, e_c = h, c\n",
    "\n",
    "    return decoded_sentence"
   ]
  },
  {
   "cell_type": "code",
   "execution_count": 49,
   "metadata": {},
   "outputs": [],
   "source": [
    "# 본문의 정수 시퀀스를 텍스트 시퀀스로 변환\n",
    "def seq2text(input_seq):\n",
    "    temp=''\n",
    "    for i in input_seq:\n",
    "        if(i!=0):\n",
    "            temp = temp + src_index_to_word[i]+' '\n",
    "    return temp\n",
    "\n",
    "# 키워드의 정수 시퀀스를 텍스트 시퀀스로 변환\n",
    "def seq2keyword(input_seq):\n",
    "    temp=''\n",
    "    for i in input_seq:\n",
    "        if((i!=0 and i!=tar_word_to_index['sostoken']) and i!=tar_word_to_index['eostoken']):\n",
    "            temp = temp + tar_index_to_word[i] + ' '\n",
    "    return temp"
   ]
  },
  {
   "cell_type": "code",
   "execution_count": 54,
   "metadata": {},
   "outputs": [
    {
     "name": "stdout",
     "output_type": "stream",
     "text": [
      "본문 : 신종 코로나바이러스 감염증 코로나19 재확산 사태의 중심에 선 사랑제일교회 측이 방역당국과 나섰다 이들은 기자회견을 통해 “정부가 코로나19를 방역 하고 있다”며 정부를 비판했다 사랑제일교회 23일 서울 성북구 사랑제일교회 앞에서 기자회견을 열고 15일 \n",
      "실제 키워드 : 중대본 정세균 코로나바이러스 광화문 압수수색 코로나 기자회견 성북구 \n",
      "예측 키워드 :  코로나19 확진자 확진자 코로나바이러스 변호사\n",
      "\n",
      "\n",
      "본문 : 헤럴드경제 뉴스24팀 더불어민주당 김부겸 후보는 전날 당 지지율이 미래통합당에 데 대해 정말 정신을 바짝 될 때가 온 것”이라고 경고했다 김 후보는 14일 페이스북을 통해 민주당이 통합당이 너무 있다”며 김종인 대표 \n",
      "실제 키워드 : 김종인 더불어민주당 페이스북 일자리 통합당 자신감 이수 지원금 \n",
      "예측 키워드 :  위원장 김종인 김종인 김종인 김종인 더불어민주당\n",
      "\n",
      "\n",
      "본문 : 중국의 7월 수출이 시장 전망치를 크게 최근 회복세를 보이던 다시 홍콩 가 7일 보도했다 따르면 중국 우리나라의 해당 는 7월 중국의 수출이 달러 약 로 지난해 같은 기간보다 7 2 증가했다고 전했다 \n",
      "실제 키워드 : 중국 블룸버그 감소세 코로나19 상반기 우리나라 홍콩 \n",
      "예측 키워드 :  중국 코로나19 미국 중국\n",
      "\n",
      "\n",
      "본문 : 최근 코로나19의 수도권 중심으로 다시금 따라 기업들이 발 빠르게 재택근무 체제로 전환하고 있다 특히 많은 재택근무에 있는 카카오는 지난 14일부터 체제로 지난 19일부터 오는 28일까지 재택 \n",
      "실제 키워드 : 재택근무 클라우드 코로나 기업들 장기화 최소화 코로나19 \n",
      "예측 키워드 :  코로나19 확진자 확진자 관계자\n",
      "\n",
      "\n",
      "본문 : lg전자 직원이 신종 코로나바이러스 감염증 코로나19 확진 판정을 받았다 lg전자는 해당 직원이 근무하는 사업장을 이번 했다 lg전자 등에 따르면 20일 서울 금천구 근무하는 직원 1명이 코로나19 확진 판정을 받았다 \n",
      "실제 키워드 : 사업장 직원 검사 근무 건물 주말 폐쇄 밀접 \n",
      "예측 키워드 :  코로나19 확진자 확진자 코로나바이러스 감염증\n",
      "\n",
      "\n",
      "본문 : 앵커 한동안 교회 관련 집단감염이 다시 발생했습니다 경기도 한 교회에서 11명이 없는 지하 교회에서 함께 한 것으로 자세한 소식 현장 연결해 알아보겠습니다 기자 예배를 본 교인 가운데 또 확진자가 \n",
      "실제 키워드 : 집단감염 60대 경기도 1명 고양시 고양 접촉자 교직원 \n",
      "예측 키워드 :  코로나19 확진자 확진자 서울 서울\n",
      "\n",
      "\n",
      "본문 : 머니투데이 기자 네이버가 14일 재택근무 체제를 재개했다 경기도 한 신종 코로나바이러스 감염증 코로나19 확진자가 카카오는 이날 전 직원 체제로 전환했다 코로나19 확진자가 발생하자 카카오는 직원들을 조치했다 \n",
      "실제 키워드 : 확진자 2주 임직원 코로나바이러스 재택근무 감염증 경기도 다음주 \n",
      "예측 키워드 :  코로나19 확진자 확진자 코로나바이러스\n",
      "\n",
      "\n",
      "본문 : 김포 신종 코로나바이러스 감염증 코로나19 확진자가 8월 13일 보도 한 가운데 확진자 중 다수가 직원이 있는 것으로 확인돼 확산되고 있다 13일 따르면 전날인 12일 교인 1명과 3명 서울 성북구 사랑제일교회 신도 1명이 \n",
      "실제 키워드 : 제일교회 감염증 문제점 관계자 마스크 감염 확산 직원 \n",
      "예측 키워드 :  코로나19 확진자 확진자 서울 코로나바이러스\n",
      "\n",
      "\n",
      "본문 : 아시아경제 이승진 기자 26일부터 다음 달 13일까지 추석 선물 사전 예약 판매를 진행한다 이번 추석 정하고 건강과 맞춰 추석 상품을 운영한다 먼저 신종 코로나바이러스감염증 코로나19 으로 인해 건강에 대 \n",
      "실제 키워드 : 10만 온라인 100만 5명 롯데 코로나바이러스 감염증 2개 \n",
      "예측 키워드 :  코로나19 온라인 온라인\n",
      "\n",
      "\n",
      "본문 : 전경 db 부산에서 코로나 19 검사를 마친 뒤 자가격리 수칙을 어기고 벌금 300만 원을 26일 감염병의 예방 및 관리에 관한 법률 위반 혐의로 기소된 a 벌금 300만 원을 밝혔 \n",
      "실제 키워드 : 감염병 부장판사 부산 300만 진단검사 검사 위반 방문 \n",
      "예측 키워드 :  재판부 코로나19 재판부 감염병\n",
      "\n",
      "\n"
     ]
    }
   ],
   "source": [
    "for i in range(20, 30):\n",
    "    print(\"본문 :\",seq2text(encoder_input_test[i]))\n",
    "    print(\"실제 키워드 :\",seq2keyword(decoder_input_test[i]))\n",
    "    print(\"예측 키워드 :\",decode_sequence(encoder_input_test[i].reshape(1, text_max_len)))\n",
    "    print(\"\\n\")"
   ]
  },
  {
   "cell_type": "code",
   "execution_count": null,
   "metadata": {},
   "outputs": [],
   "source": []
  }
 ],
 "metadata": {
  "kernelspec": {
   "display_name": "Python 3",
   "language": "python",
   "name": "python3"
  },
  "language_info": {
   "codemirror_mode": {
    "name": "ipython",
    "version": 3
   },
   "file_extension": ".py",
   "mimetype": "text/x-python",
   "name": "python",
   "nbconvert_exporter": "python",
   "pygments_lexer": "ipython3",
   "version": "3.8.3"
  }
 },
 "nbformat": 4,
 "nbformat_minor": 4
}
